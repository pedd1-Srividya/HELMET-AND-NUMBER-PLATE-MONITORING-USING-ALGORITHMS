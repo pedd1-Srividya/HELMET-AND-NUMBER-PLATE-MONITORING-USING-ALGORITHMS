{
  "nbformat": 4,
  "nbformat_minor": 0,
  "metadata": {
    "colab": {
      "provenance": [],
      "authorship_tag": "ABX9TyMdQXDt39kEmCz+VKqFpP+v",
      "include_colab_link": true
    },
    "kernelspec": {
      "name": "python3",
      "display_name": "Python 3"
    },
    "language_info": {
      "name": "python"
    }
  },
  "cells": [
    {
      "cell_type": "markdown",
      "metadata": {
        "id": "view-in-github",
        "colab_type": "text"
      },
      "source": [
        "<a href=\"https://colab.research.google.com/github/pedd1-Srividya/HELMET-AND-NUMBER-PLATE-MONITORING-USING-ALGORITHMS/blob/main/DS_ML_AI.ipynb\" target=\"_parent\"><img src=\"https://colab.research.google.com/assets/colab-badge.svg\" alt=\"Open In Colab\"/></a>"
      ]
    },
    {
      "cell_type": "markdown",
      "source": [
        "#Basics of Python"
      ],
      "metadata": {
        "id": "COZZHnmn7zwh"
      }
    },
    {
      "cell_type": "code",
      "execution_count": null,
      "metadata": {
        "colab": {
          "base_uri": "https://localhost:8080/",
          "height": 36
        },
        "id": "XCzWqsB74ye0",
        "outputId": "c5fc209b-b645-4924-c493-deb1b3405da9"
      },
      "outputs": [
        {
          "output_type": "execute_result",
          "data": {
            "text/plain": [
              "'\\nMultiline comment\\nPython is a case sensitive language\\n'"
            ],
            "application/vnd.google.colaboratory.intrinsic+json": {
              "type": "string"
            }
          },
          "metadata": {},
          "execution_count": 7
        }
      ],
      "source": [
        "#comments\n",
        "a=2\n",
        "b=3\n",
        "c=a+b #c is a variable and value of a and b has been added\n",
        "'''\n",
        "Multiline comment\n",
        "Python is a case sensitive language\n",
        "'''"
      ]
    },
    {
      "cell_type": "code",
      "source": [
        "#title print function\n",
        "#syntax for print function\n",
        "a=10\n",
        "b=20\n",
        "sum=a+b\n",
        "print(sum)#valid synatx"
      ],
      "metadata": {
        "colab": {
          "base_uri": "https://localhost:8080/"
        },
        "id": "A90J93JY9b8C",
        "outputId": "9ca7e9ca-460f-44bf-bb86-4679da737ad3"
      },
      "execution_count": null,
      "outputs": [
        {
          "output_type": "stream",
          "name": "stdout",
          "text": [
            "30\n"
          ]
        }
      ]
    },
    {
      "cell_type": "code",
      "source": [
        "#printing hello world\n",
        "print(\"Hello World\")"
      ],
      "metadata": {
        "colab": {
          "base_uri": "https://localhost:8080/"
        },
        "id": "9i-ebp9C-bgo",
        "outputId": "6847b491-58eb-4d37-ad2e-03d3de84bf42"
      },
      "execution_count": null,
      "outputs": [
        {
          "output_type": "stream",
          "name": "stdout",
          "text": [
            "Hello World\n"
          ]
        }
      ]
    },
    {
      "cell_type": "code",
      "source": [
        "# There are two parameters in print function\n",
        "'''\n",
        "1) end parameter\n",
        "2) separated parameter\n",
        "'''\n",
        "# Print both statments in a single line\n",
        "print('Hello World', end=' ')#Default value of end is '\\n' (new line)\n",
        "print('How r u?')\n",
        "#separate two statements with @\n",
        "print('rinex','gmail.com',sep='@')#Default value of sep is' '(space)"
      ],
      "metadata": {
        "colab": {
          "base_uri": "https://localhost:8080/"
        },
        "id": "7pfKqqLv-yc_",
        "outputId": "d7d7c373-f5a4-4be9-8dfb-33e6157442dd"
      },
      "execution_count": null,
      "outputs": [
        {
          "output_type": "stream",
          "name": "stdout",
          "text": [
            "Hello World How r u?\n",
            "rinex@gmail.com\n"
          ]
        }
      ]
    },
    {
      "cell_type": "code",
      "source": [
        "#Anything that can store any value in programming language is termed as variable\n",
        "a=10# Here a is a variable\n",
        "message='Hello World' # Here message is a variable\n",
        "print(a)\n",
        "print(message)\n",
        "'''\n",
        "Rules to write a variable\n",
        "1) You cannot start the variable name with a anumber but you continue with it.\n",
        "Ex: 1a - Invalid, a1- Valid\n",
        "2) We cannot use keyboards as variable name.\n",
        "Ex: print = 10(Invalid)\n",
        "3) case sensitive\n",
        "ex:\n",
        "a=10\n",
        "print(A)# Invalid syntax\n",
        "a=10\n",
        "print(a)# Valid syntax\n",
        "'''"
      ],
      "metadata": {
        "colab": {
          "base_uri": "https://localhost:8080/",
          "height": 122
        },
        "id": "TZxgK0wQBTv_",
        "outputId": "694732f3-1215-470a-ce88-408702f5a978"
      },
      "execution_count": null,
      "outputs": [
        {
          "output_type": "stream",
          "name": "stdout",
          "text": [
            "10\n",
            "Hello World\n"
          ]
        },
        {
          "output_type": "execute_result",
          "data": {
            "text/plain": [
              "'\\nRules to write a variable\\n1) You cannot start the variable name with a anumber but you continue with it.\\nEx: 1a - Invalid, a1- Valid\\n2) We cannot use keyboards as variable name.\\nEx: print = 10(Invalid)\\n3) case sensitive\\nex:\\na=10\\nprint(A)# Invalid syntax\\na=10\\nprint(a)# Valid syntax\\n'"
            ],
            "application/vnd.google.colaboratory.intrinsic+json": {
              "type": "string"
            }
          },
          "metadata": {},
          "execution_count": 6
        }
      ]
    },
    {
      "cell_type": "markdown",
      "source": [
        "# Basic Operators in python\n",
        "1.Arthimetic Operators\n",
        "\n",
        "2.Comparision Operators\n",
        "\n",
        "3.Logical Operators\n",
        "\n",
        "4.Assignment operators"
      ],
      "metadata": {
        "id": "xaiC8rdDFjTy"
      }
    },
    {
      "cell_type": "code",
      "source": [
        "# @title Arthimetic Operators\n",
        "'''\n",
        "1) Addition(+)\n",
        "2) Subtraction(-)\n",
        "3) Division(/)\n",
        "4) multiplication(*)\n",
        "5) Modulus (Remainder)(%)\n",
        "6) Floor Division(//)\n",
        "7) Exponent(**)\n",
        "'''\n",
        "a=10\n",
        "b=5\n",
        "sum=a+b\n",
        "print(\"sum is\",sum)\n",
        "diff=a-b\n",
        "print(\"Difference is\",diff)\n",
        "qnt=a/b\n",
        "print(\"Quotient is\",qnt)\n",
        "prod=a*b\n",
        "print(\"Product is\",prod)\n",
        "mod=a%b\n",
        "print(\"Remainder is\",mod)\n",
        "floor=a//b\n",
        "print(\"Floor division is\",floor)\n",
        "exp=a**b\n",
        "print(\"Exponent is\",exp)\n"
      ],
      "metadata": {
        "id": "yg4gcoUMFs8H",
        "colab": {
          "base_uri": "https://localhost:8080/"
        },
        "outputId": "83007715-af59-43ca-925a-0b4fe376558c"
      },
      "execution_count": null,
      "outputs": [
        {
          "output_type": "stream",
          "name": "stdout",
          "text": [
            "sum is 15\n",
            "Difference is 5\n",
            "Quotient is 2.0\n",
            "Product is 50\n",
            "Remainder is 0\n",
            "Floor division is 2\n",
            "Exponent is 100000\n"
          ]
        }
      ]
    },
    {
      "cell_type": "code",
      "source": [
        "# @title Comparision Operators\n",
        "'''\n",
        "1) Equal to(==)\n",
        "2) Not Equal(!=)\n",
        "3) Greater than(>)\n",
        "4) Greater than or equal to(>=)\n",
        "5) Lesser than(<)\n",
        "6) Lesser than or equal to(<=)\n",
        "'''\n",
        "a=10\n",
        "b=5\n",
        "print(a==b)\n",
        "print(a!=b)\n",
        "print(a>b)\n",
        "print(a>=b)\n",
        "print(a<b)\n",
        "print(a<=b)\n"
      ],
      "metadata": {
        "colab": {
          "base_uri": "https://localhost:8080/"
        },
        "id": "bskkgB3fJ5Wg",
        "outputId": "19aa1003-a55c-43a8-c7b5-13105f072441"
      },
      "execution_count": null,
      "outputs": [
        {
          "output_type": "stream",
          "name": "stdout",
          "text": [
            "False\n",
            "True\n",
            "True\n",
            "True\n",
            "False\n",
            "False\n"
          ]
        }
      ]
    },
    {
      "cell_type": "markdown",
      "source": [
        "# Logical Operators"
      ],
      "metadata": {
        "id": "Ccot5Uw4DkkP"
      }
    },
    {
      "cell_type": "code",
      "source": [
        "# @title Logical Operators\n",
        "'''\n",
        "1) Logical AND(and)\n",
        "2) Logical OR(or)\n",
        "3) Logical NOT(not)\n",
        "'''\n",
        "#Get only the number greater than 5 and less than 10\n",
        "num=int(input(\"Enter the number\"))\n",
        "cond=(num>5) and (num<10)\n",
        "print(cond)\n",
        "#Get output as true if the entered age is greater than or eual tol 18\n",
        "age=int(input(\"Enter your age\"))\n",
        "cond1=(age>18) or (age==18)\n",
        "print(cond1)\n",
        "#Logical not is used for reverse the output\n",
        "cond=True\n",
        "print(not(cond))"
      ],
      "metadata": {
        "colab": {
          "base_uri": "https://localhost:8080/"
        },
        "id": "MG7keav-DEWe",
        "outputId": "65b57122-4d5d-4e09-c071-8e4f0a32e664"
      },
      "execution_count": 4,
      "outputs": [
        {
          "output_type": "stream",
          "name": "stdout",
          "text": [
            "Enter the number10\n",
            "False\n",
            "Enter your age15\n",
            "False\n",
            "False\n"
          ]
        }
      ]
    },
    {
      "cell_type": "markdown",
      "source": [
        "# Assignment Operators"
      ],
      "metadata": {
        "id": "EU1Po7kYKlfQ"
      }
    },
    {
      "cell_type": "code",
      "source": [
        "# @title Assignment Operators\n",
        "'''\n",
        "1) Assignment(=)\n",
        "2) Addition Assignment(+=)\n",
        "3) Subtraction Assignment(-=)\n",
        "4) Division Assignment(/=)\n",
        "5) Multiplication Assignment(*=)\n",
        "6) Modulus Assignment(%=)\n",
        "7) Floor Division Assignment(//=)\n",
        "8) Exponent Assignment(**=)\n",
        "'''\n",
        "num=10\n",
        "num**=2\n",
        "print(num)"
      ],
      "metadata": {
        "id": "51lXGkkOKrp0",
        "outputId": "cec435d2-1296-423a-fd82-0ef4479acf74",
        "colab": {
          "base_uri": "https://localhost:8080/"
        }
      },
      "execution_count": 9,
      "outputs": [
        {
          "output_type": "stream",
          "name": "stdout",
          "text": [
            "100\n"
          ]
        }
      ]
    },
    {
      "cell_type": "markdown",
      "source": [
        "# CONDITIONAL OPERATORS\n",
        "1.IF statement\n",
        "\n",
        "2.IF ELSE statement\n",
        "\n",
        "3.IF ELIF ELSE statement"
      ],
      "metadata": {
        "id": "nZF8_zcJN-MO"
      }
    },
    {
      "cell_type": "code",
      "source": [
        "# @title syntax\n",
        "if condition:\n",
        "  statements\n",
        "elif condition:\n",
        "  statements\n",
        "  ..\n",
        "  ..\n",
        "  ..\n",
        "  ..\n",
        "else:\n",
        "  statements"
      ],
      "metadata": {
        "id": "vCVsLzy8OV7X"
      },
      "execution_count": null,
      "outputs": []
    },
    {
      "cell_type": "code",
      "source": [
        "# @title Example1\n",
        "#check if the number is greater than 0 or not\n",
        "num=int(input(\"Enter a number\"))\n",
        "if num>0:\n",
        "  print(\"number is greater than 0\")\n",
        "else:\n",
        "  print(\"number is not greater than 0\")\n"
      ],
      "metadata": {
        "id": "GSjHWVZjVYlh",
        "outputId": "3ada8a82-1055-42b5-d3c5-500fc284a6a9",
        "colab": {
          "base_uri": "https://localhost:8080/"
        }
      },
      "execution_count": 11,
      "outputs": [
        {
          "output_type": "stream",
          "name": "stdout",
          "text": [
            "Enter a number-5\n",
            "number is not greater than 0\n"
          ]
        }
      ]
    },
    {
      "cell_type": "code",
      "source": [
        "# @title Example2\n",
        "#check if the number is +ve or -ve\n",
        "num=int(input(\"Enter a number\"))\n",
        "if num>0:\n",
        "  print(\"number is +ve\")\n",
        "elif num==0:\n",
        "  print(\"number is 0\")\n",
        "else:\n",
        "  print(\"number is -ve\")"
      ],
      "metadata": {
        "cellView": "form",
        "id": "Et0B1jjjV_SI",
        "outputId": "1f30d25e-f03a-4ae5-a82d-3046f9f3bc4a",
        "colab": {
          "base_uri": "https://localhost:8080/"
        }
      },
      "execution_count": 14,
      "outputs": [
        {
          "output_type": "stream",
          "name": "stdout",
          "text": [
            "Enter a number5\n",
            "number is +ve\n"
          ]
        }
      ]
    },
    {
      "cell_type": "code",
      "source": [
        "# @title Example3\n",
        "#check if you are admin, then you have admin privilege else you have no access\n",
        "username=input(\"Enter username\")\n",
        "admin_username='admin@321'\n",
        "if username==admin_username:\n",
        "  print(\"Welcome admin kindly enter your password\")\n",
        "  password=input(\"Enter password\")\n",
        "  admin_password='pass@321'\n",
        "  if password==admin_password:\n",
        "    print(\"Welcome admin, You have admin priviledge\")\n",
        "  else:\n",
        "    print(\"Invalid password\")\n",
        "else:\n",
        "  print(\"invalid username\")"
      ],
      "metadata": {
        "id": "bWlkn9g7Zcf_",
        "outputId": "9817c44c-20cc-4f28-8191-5868ef4726a2",
        "colab": {
          "base_uri": "https://localhost:8080/"
        }
      },
      "execution_count": 17,
      "outputs": [
        {
          "output_type": "stream",
          "name": "stdout",
          "text": [
            "Enter usernameadmin@321\n",
            "Welcome admin kindly enter your password\n",
            "Enter passwordpass@321\n",
            "Welcome admin, You have admin priviledge\n"
          ]
        }
      ]
    },
    {
      "cell_type": "code",
      "source": [
        "# @title Example4\n",
        "#check if you user is eligible to vote (age >=18 )\n",
        "age=int(input(\"Enter your age\"))\n",
        "if age>=18:\n",
        "  print(\"user is Eligible to vote\")\n",
        "else:\n",
        "  a=18-age\n",
        "  print(\"User is not eligible to vote wait for\",a,\"years\")"
      ],
      "metadata": {
        "id": "GIPRoNdkdBgh",
        "outputId": "99e20c40-609b-4990-d1ce-bf45559da8b3",
        "colab": {
          "base_uri": "https://localhost:8080/"
        }
      },
      "execution_count": 23,
      "outputs": [
        {
          "output_type": "stream",
          "name": "stdout",
          "text": [
            "Enter your age15\n",
            "User is not eligible to vote wait for 3 years\n"
          ]
        }
      ]
    }
  ]
}